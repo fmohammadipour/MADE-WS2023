{
 "cells": [
  {
   "attachments": {},
   "cell_type": "markdown",
   "metadata": {},
   "source": [
    "# Data Exploration\n",
    "\n",
    "In this notebook we would go through our datasets and explore them. "
   ]
  },
  {
   "attachments": {},
   "cell_type": "markdown",
   "metadata": {},
   "source": [
    "## Install dependencies"
   ]
  },
  {
   "cell_type": "code",
   "execution_count": 15,
   "metadata": {},
   "outputs": [
    {
     "name": "stdout",
     "output_type": "stream",
     "text": [
      "Requirement already satisfied: pandas in c:\\users\\z004pv7e\\appdata\\local\\programs\\python\\python311\\lib\\site-packages (2.1.3)\n",
      "Requirement already satisfied: numpy<2,>=1.23.2 in c:\\users\\z004pv7e\\appdata\\local\\programs\\python\\python311\\lib\\site-packages (from pandas) (1.26.2)\n",
      "Requirement already satisfied: python-dateutil>=2.8.2 in c:\\users\\z004pv7e\\appdata\\local\\programs\\python\\python311\\lib\\site-packages (from pandas) (2.8.2)\n",
      "Requirement already satisfied: pytz>=2020.1 in c:\\users\\z004pv7e\\appdata\\local\\programs\\python\\python311\\lib\\site-packages (from pandas) (2023.3.post1)\n",
      "Requirement already satisfied: tzdata>=2022.1 in c:\\users\\z004pv7e\\appdata\\local\\programs\\python\\python311\\lib\\site-packages (from pandas) (2023.3)\n",
      "Requirement already satisfied: six>=1.5 in c:\\users\\z004pv7e\\appdata\\local\\programs\\python\\python311\\lib\\site-packages (from python-dateutil>=2.8.2->pandas) (1.16.0)\n",
      "Note: you may need to restart the kernel to use updated packages.\n",
      "Note: you may need to restart the kernel to use updated packages.\n"
     ]
    },
    {
     "name": "stderr",
     "output_type": "stream",
     "text": [
      "ERROR: Invalid requirement: \"'SQLAlchemy==1.4.46'\"\n"
     ]
    }
   ],
   "source": [
    "%pip install pandas\n",
    "%pip install 'SQLAlchemy==1.4.46'"
   ]
  },
  {
   "cell_type": "markdown",
   "metadata": {},
   "source": [
    "## Importing Modules"
   ]
  },
  {
   "cell_type": "code",
   "execution_count": 16,
   "metadata": {},
   "outputs": [],
   "source": [
    "import subprocess\n",
    "import zipfile\n",
    "import os\n",
    "import shutil\n",
    "import pandas as pd\n",
    "import sqlite3\n",
    "import requests\n",
    "from io import StringIO\n",
    "import matplotlib.pyplot as plt\n",
    "import plotly.graph_objs as go\n",
    "from plotly.offline import iplot"
   ]
  },
  {
   "attachments": {},
   "cell_type": "markdown",
   "metadata": {},
   "source": [
    "## Load data"
   ]
  },
  {
   "cell_type": "markdown",
   "metadata": {},
   "source": [
    "### 1.1 Loading first dataset"
   ]
  },
  {
   "cell_type": "code",
   "execution_count": 17,
   "metadata": {},
   "outputs": [],
   "source": [
    "\n",
    "# Define the command to download the dataset\n",
    "command = 'kaggle datasets download -d mathurinache/world-happiness-report'\n",
    "\n",
    "# Execute the command using subprocess\n",
    "subprocess.run(command, shell=True)\n",
    "\n",
    "# Path to the downloaded ZIP file\n",
    "zip_file_path = 'world-happiness-report.zip'\n",
    "\n",
    "# Destination folder for extracted files\n",
    "extract_folder = 'world-happiness-report'\n",
    "\n",
    "# Extract the contents of the ZIP file\n",
    "with zipfile.ZipFile(zip_file_path, 'r') as zip_ref:\n",
    "    zip_ref.extractall(extract_folder)\n",
    "\n",
    "# Access and read the CSV file\n",
    "csv_file_path = os.path.join(extract_folder, '2020.csv')  # Path to the CSV file\n",
    "\n",
    "\n",
    "# Read the CSV file into a pandas DataFrame\n",
    "happiness_df = pd.read_csv(csv_file_path)\n",
    "\n",
    "# Second step : Perform operations, fix errors, and manipulate the DataFrame as needed\n",
    "\n",
    "happiness_df.set_index('Country name', inplace= True)\n"
   ]
  },
  {
   "cell_type": "markdown",
   "metadata": {},
   "source": [
    "### 1.1 Loading second dataset"
   ]
  },
  {
   "cell_type": "code",
   "execution_count": 18,
   "metadata": {},
   "outputs": [],
   "source": [
    "\n",
    "# Novel Coronavirus (COVID-19) Cases Data\n",
    "\n",
    "# URL of the CSV file\n",
    "url = \"https://data.humdata.org/hxlproxy/api/data-preview.csv?url=https%3A%2F%2Fraw.githubusercontent.com%2FCSSEGISandData%2FCOVID-19%2Fmaster%2Fcsse_covid_19_data%2Fcsse_covid_19_time_series%2Ftime_series_covid19_confirmed_global.csv&filename=time_series_covid19_confirmed_global.csv\"\n",
    "\n",
    "# First step : Fetch the CSV data from the URL\n",
    "response = requests.get(url)\n",
    "data = response.content.decode('utf-8')\n",
    "\n",
    "# Read the CSV data using pandas\n",
    "df = pd.read_csv(StringIO(data))\n",
    "\n",
    "# Second Step : Perform operations, fix errors, and manipulate the DataFrame as needed\n",
    "\n",
    "df.drop([\"Province/State\",\"Lat\", \"Long\"], axis = 1, inplace = True) # There are 3 unneccery column in file which we do not need\n",
    "\n",
    "# Grouping by 'Country/Region' and creating a new DataFrame\n",
    "grouped_df = df.groupby('Country/Region').sum().reset_index()\n",
    "\n",
    "\n",
    "# Adding two new columns for further analyse\n",
    "countries = list(grouped_df.index)\n",
    "\n",
    "# first one is sum of infections in each country\n",
    "# sum values across all columns except the country column\n",
    "columns_to_sum = grouped_df.columns[1:]  # Exclude the first column (assuming it's the 'Country' column)\n",
    "\n",
    "# Creating a new column to store the sum for each country\n",
    "grouped_df['sum_for_each_country'] = grouped_df[columns_to_sum].sum(axis=1)\n",
    "\n",
    "# final dataset with countries name and sum for each country only\n",
    "selected_columns = ['Country/Region', 'sum_for_each_country']\n",
    "covid_df = grouped_df[selected_columns].copy()"
   ]
  },
  {
   "cell_type": "markdown",
   "metadata": {},
   "source": [
    "### 1.3 Merging two datasets to have the whole info"
   ]
  },
  {
   "cell_type": "code",
   "execution_count": 19,
   "metadata": {},
   "outputs": [],
   "source": [
    "# now I have joined two datasets based on mutual column to have my final dataset and go through it\n",
    "# Perform an inner join on the different columns\n",
    "\n",
    "merged_df = pd.merge(covid_df, happiness_df, left_on='Country/Region', right_on='Country name', how='inner')\n",
    "\n",
    "df=merged_df\n",
    "\n",
    "# Delete the ZIP file and extracted folder\n",
    "os.remove(zip_file_path)\n",
    "shutil.rmtree(extract_folder)"
   ]
  },
  {
   "attachments": {},
   "cell_type": "markdown",
   "metadata": {},
   "source": [
    "### Look at the first rows"
   ]
  },
  {
   "cell_type": "code",
   "execution_count": 20,
   "metadata": {},
   "outputs": [
    {
     "data": {
      "text/html": [
       "<div>\n",
       "<style scoped>\n",
       "    .dataframe tbody tr th:only-of-type {\n",
       "        vertical-align: middle;\n",
       "    }\n",
       "\n",
       "    .dataframe tbody tr th {\n",
       "        vertical-align: top;\n",
       "    }\n",
       "\n",
       "    .dataframe thead th {\n",
       "        text-align: right;\n",
       "    }\n",
       "</style>\n",
       "<table border=\"1\" class=\"dataframe\">\n",
       "  <thead>\n",
       "    <tr style=\"text-align: right;\">\n",
       "      <th></th>\n",
       "      <th>Country/Region</th>\n",
       "      <th>sum_for_each_country</th>\n",
       "      <th>Regional indicator</th>\n",
       "      <th>Ladder score</th>\n",
       "      <th>Standard error of ladder score</th>\n",
       "      <th>upperwhisker</th>\n",
       "      <th>lowerwhisker</th>\n",
       "      <th>Logged GDP per capita</th>\n",
       "      <th>Social support</th>\n",
       "      <th>Healthy life expectancy</th>\n",
       "      <th>...</th>\n",
       "      <th>Generosity</th>\n",
       "      <th>Perceptions of corruption</th>\n",
       "      <th>Ladder score in Dystopia</th>\n",
       "      <th>Explained by: Log GDP per capita</th>\n",
       "      <th>Explained by: Social support</th>\n",
       "      <th>Explained by: Healthy life expectancy</th>\n",
       "      <th>Explained by: Freedom to make life choices</th>\n",
       "      <th>Explained by: Generosity</th>\n",
       "      <th>Explained by: Perceptions of corruption</th>\n",
       "      <th>Dystopia + residual</th>\n",
       "    </tr>\n",
       "  </thead>\n",
       "  <tbody>\n",
       "    <tr>\n",
       "      <th>0</th>\n",
       "      <td>Afghanistan</td>\n",
       "      <td>129988469</td>\n",
       "      <td>South Asia</td>\n",
       "      <td>2.5669</td>\n",
       "      <td>0.031311</td>\n",
       "      <td>2.628270</td>\n",
       "      <td>2.505530</td>\n",
       "      <td>7.462861</td>\n",
       "      <td>0.470367</td>\n",
       "      <td>52.590000</td>\n",
       "      <td>...</td>\n",
       "      <td>-0.096429</td>\n",
       "      <td>0.933687</td>\n",
       "      <td>1.972317</td>\n",
       "      <td>0.300706</td>\n",
       "      <td>0.356434</td>\n",
       "      <td>0.266052</td>\n",
       "      <td>0.000000</td>\n",
       "      <td>0.135235</td>\n",
       "      <td>0.001226</td>\n",
       "      <td>1.507236</td>\n",
       "    </tr>\n",
       "    <tr>\n",
       "      <th>1</th>\n",
       "      <td>Albania</td>\n",
       "      <td>185562654</td>\n",
       "      <td>Central and Eastern Europe</td>\n",
       "      <td>4.8827</td>\n",
       "      <td>0.056116</td>\n",
       "      <td>4.992687</td>\n",
       "      <td>4.772713</td>\n",
       "      <td>9.417931</td>\n",
       "      <td>0.671070</td>\n",
       "      <td>68.708138</td>\n",
       "      <td>...</td>\n",
       "      <td>-0.042309</td>\n",
       "      <td>0.896304</td>\n",
       "      <td>1.972317</td>\n",
       "      <td>0.906653</td>\n",
       "      <td>0.830484</td>\n",
       "      <td>0.846330</td>\n",
       "      <td>0.461946</td>\n",
       "      <td>0.171028</td>\n",
       "      <td>0.025361</td>\n",
       "      <td>1.640897</td>\n",
       "    </tr>\n",
       "    <tr>\n",
       "      <th>2</th>\n",
       "      <td>Algeria</td>\n",
       "      <td>182741650</td>\n",
       "      <td>Middle East and North Africa</td>\n",
       "      <td>5.0051</td>\n",
       "      <td>0.044236</td>\n",
       "      <td>5.091802</td>\n",
       "      <td>4.918397</td>\n",
       "      <td>9.537965</td>\n",
       "      <td>0.803385</td>\n",
       "      <td>65.905174</td>\n",
       "      <td>...</td>\n",
       "      <td>-0.121105</td>\n",
       "      <td>0.735485</td>\n",
       "      <td>1.972317</td>\n",
       "      <td>0.943856</td>\n",
       "      <td>1.143004</td>\n",
       "      <td>0.745419</td>\n",
       "      <td>0.083944</td>\n",
       "      <td>0.118915</td>\n",
       "      <td>0.129191</td>\n",
       "      <td>1.840812</td>\n",
       "    </tr>\n",
       "    <tr>\n",
       "      <th>3</th>\n",
       "      <td>Argentina</td>\n",
       "      <td>5625482921</td>\n",
       "      <td>Latin America and Caribbean</td>\n",
       "      <td>5.9747</td>\n",
       "      <td>0.053442</td>\n",
       "      <td>6.079446</td>\n",
       "      <td>5.869954</td>\n",
       "      <td>9.810955</td>\n",
       "      <td>0.900568</td>\n",
       "      <td>68.803802</td>\n",
       "      <td>...</td>\n",
       "      <td>-0.194914</td>\n",
       "      <td>0.842010</td>\n",
       "      <td>1.972317</td>\n",
       "      <td>1.028466</td>\n",
       "      <td>1.372544</td>\n",
       "      <td>0.849774</td>\n",
       "      <td>0.520840</td>\n",
       "      <td>0.070100</td>\n",
       "      <td>0.060415</td>\n",
       "      <td>2.072541</td>\n",
       "    </tr>\n",
       "    <tr>\n",
       "      <th>4</th>\n",
       "      <td>Armenia</td>\n",
       "      <td>285491323</td>\n",
       "      <td>Commonwealth of Independent States</td>\n",
       "      <td>4.6768</td>\n",
       "      <td>0.058595</td>\n",
       "      <td>4.791646</td>\n",
       "      <td>4.561953</td>\n",
       "      <td>9.100476</td>\n",
       "      <td>0.757479</td>\n",
       "      <td>66.750656</td>\n",
       "      <td>...</td>\n",
       "      <td>-0.138780</td>\n",
       "      <td>0.773545</td>\n",
       "      <td>1.972317</td>\n",
       "      <td>0.808262</td>\n",
       "      <td>1.034577</td>\n",
       "      <td>0.775857</td>\n",
       "      <td>0.378076</td>\n",
       "      <td>0.107226</td>\n",
       "      <td>0.104618</td>\n",
       "      <td>1.468162</td>\n",
       "    </tr>\n",
       "    <tr>\n",
       "      <th>5</th>\n",
       "      <td>Australia</td>\n",
       "      <td>3508864881</td>\n",
       "      <td>North America and ANZ</td>\n",
       "      <td>7.2228</td>\n",
       "      <td>0.041841</td>\n",
       "      <td>7.304808</td>\n",
       "      <td>7.140791</td>\n",
       "      <td>10.720596</td>\n",
       "      <td>0.944855</td>\n",
       "      <td>73.604538</td>\n",
       "      <td>...</td>\n",
       "      <td>0.190460</td>\n",
       "      <td>0.415169</td>\n",
       "      <td>1.972317</td>\n",
       "      <td>1.310396</td>\n",
       "      <td>1.477146</td>\n",
       "      <td>1.022608</td>\n",
       "      <td>0.621877</td>\n",
       "      <td>0.324974</td>\n",
       "      <td>0.335996</td>\n",
       "      <td>2.129804</td>\n",
       "    </tr>\n",
       "    <tr>\n",
       "      <th>6</th>\n",
       "      <td>Austria</td>\n",
       "      <td>2210457634</td>\n",
       "      <td>Western Europe</td>\n",
       "      <td>7.2942</td>\n",
       "      <td>0.033365</td>\n",
       "      <td>7.359596</td>\n",
       "      <td>7.228804</td>\n",
       "      <td>10.742824</td>\n",
       "      <td>0.928046</td>\n",
       "      <td>73.002502</td>\n",
       "      <td>...</td>\n",
       "      <td>0.085429</td>\n",
       "      <td>0.499955</td>\n",
       "      <td>1.972317</td>\n",
       "      <td>1.317286</td>\n",
       "      <td>1.437445</td>\n",
       "      <td>1.000934</td>\n",
       "      <td>0.603369</td>\n",
       "      <td>0.255510</td>\n",
       "      <td>0.281256</td>\n",
       "      <td>2.398446</td>\n",
       "    </tr>\n",
       "    <tr>\n",
       "      <th>7</th>\n",
       "      <td>Azerbaijan</td>\n",
       "      <td>493546661</td>\n",
       "      <td>Commonwealth of Independent States</td>\n",
       "      <td>5.1648</td>\n",
       "      <td>0.034197</td>\n",
       "      <td>5.231827</td>\n",
       "      <td>5.097774</td>\n",
       "      <td>9.687727</td>\n",
       "      <td>0.819308</td>\n",
       "      <td>65.508400</td>\n",
       "      <td>...</td>\n",
       "      <td>-0.240255</td>\n",
       "      <td>0.552538</td>\n",
       "      <td>1.972317</td>\n",
       "      <td>0.990273</td>\n",
       "      <td>1.180613</td>\n",
       "      <td>0.731134</td>\n",
       "      <td>0.467735</td>\n",
       "      <td>0.040113</td>\n",
       "      <td>0.247307</td>\n",
       "      <td>1.507633</td>\n",
       "    </tr>\n",
       "    <tr>\n",
       "      <th>8</th>\n",
       "      <td>Bahrain</td>\n",
       "      <td>357306683</td>\n",
       "      <td>Middle East and North Africa</td>\n",
       "      <td>6.2273</td>\n",
       "      <td>0.081882</td>\n",
       "      <td>6.387789</td>\n",
       "      <td>6.066811</td>\n",
       "      <td>10.676380</td>\n",
       "      <td>0.876342</td>\n",
       "      <td>68.500000</td>\n",
       "      <td>...</td>\n",
       "      <td>0.133729</td>\n",
       "      <td>0.739347</td>\n",
       "      <td>1.972317</td>\n",
       "      <td>1.296692</td>\n",
       "      <td>1.315324</td>\n",
       "      <td>0.838836</td>\n",
       "      <td>0.610400</td>\n",
       "      <td>0.287454</td>\n",
       "      <td>0.126697</td>\n",
       "      <td>1.751917</td>\n",
       "    </tr>\n",
       "    <tr>\n",
       "      <th>9</th>\n",
       "      <td>Bangladesh</td>\n",
       "      <td>1309367681</td>\n",
       "      <td>South Asia</td>\n",
       "      <td>4.8328</td>\n",
       "      <td>0.040124</td>\n",
       "      <td>4.911443</td>\n",
       "      <td>4.754157</td>\n",
       "      <td>8.287064</td>\n",
       "      <td>0.687293</td>\n",
       "      <td>64.503067</td>\n",
       "      <td>...</td>\n",
       "      <td>-0.033665</td>\n",
       "      <td>0.661844</td>\n",
       "      <td>1.972317</td>\n",
       "      <td>0.556156</td>\n",
       "      <td>0.868801</td>\n",
       "      <td>0.694941</td>\n",
       "      <td>0.604131</td>\n",
       "      <td>0.176745</td>\n",
       "      <td>0.176736</td>\n",
       "      <td>1.755262</td>\n",
       "    </tr>\n",
       "  </tbody>\n",
       "</table>\n",
       "<p>10 rows × 21 columns</p>\n",
       "</div>"
      ],
      "text/plain": [
       "  Country/Region  sum_for_each_country                  Regional indicator  \\\n",
       "0    Afghanistan             129988469                          South Asia   \n",
       "1        Albania             185562654          Central and Eastern Europe   \n",
       "2        Algeria             182741650        Middle East and North Africa   \n",
       "3      Argentina            5625482921         Latin America and Caribbean   \n",
       "4        Armenia             285491323  Commonwealth of Independent States   \n",
       "5      Australia            3508864881               North America and ANZ   \n",
       "6        Austria            2210457634                      Western Europe   \n",
       "7     Azerbaijan             493546661  Commonwealth of Independent States   \n",
       "8        Bahrain             357306683        Middle East and North Africa   \n",
       "9     Bangladesh            1309367681                          South Asia   \n",
       "\n",
       "   Ladder score  Standard error of ladder score  upperwhisker  lowerwhisker  \\\n",
       "0        2.5669                        0.031311      2.628270      2.505530   \n",
       "1        4.8827                        0.056116      4.992687      4.772713   \n",
       "2        5.0051                        0.044236      5.091802      4.918397   \n",
       "3        5.9747                        0.053442      6.079446      5.869954   \n",
       "4        4.6768                        0.058595      4.791646      4.561953   \n",
       "5        7.2228                        0.041841      7.304808      7.140791   \n",
       "6        7.2942                        0.033365      7.359596      7.228804   \n",
       "7        5.1648                        0.034197      5.231827      5.097774   \n",
       "8        6.2273                        0.081882      6.387789      6.066811   \n",
       "9        4.8328                        0.040124      4.911443      4.754157   \n",
       "\n",
       "   Logged GDP per capita  Social support  Healthy life expectancy  ...  \\\n",
       "0               7.462861        0.470367                52.590000  ...   \n",
       "1               9.417931        0.671070                68.708138  ...   \n",
       "2               9.537965        0.803385                65.905174  ...   \n",
       "3               9.810955        0.900568                68.803802  ...   \n",
       "4               9.100476        0.757479                66.750656  ...   \n",
       "5              10.720596        0.944855                73.604538  ...   \n",
       "6              10.742824        0.928046                73.002502  ...   \n",
       "7               9.687727        0.819308                65.508400  ...   \n",
       "8              10.676380        0.876342                68.500000  ...   \n",
       "9               8.287064        0.687293                64.503067  ...   \n",
       "\n",
       "   Generosity  Perceptions of corruption  Ladder score in Dystopia  \\\n",
       "0   -0.096429                   0.933687                  1.972317   \n",
       "1   -0.042309                   0.896304                  1.972317   \n",
       "2   -0.121105                   0.735485                  1.972317   \n",
       "3   -0.194914                   0.842010                  1.972317   \n",
       "4   -0.138780                   0.773545                  1.972317   \n",
       "5    0.190460                   0.415169                  1.972317   \n",
       "6    0.085429                   0.499955                  1.972317   \n",
       "7   -0.240255                   0.552538                  1.972317   \n",
       "8    0.133729                   0.739347                  1.972317   \n",
       "9   -0.033665                   0.661844                  1.972317   \n",
       "\n",
       "   Explained by: Log GDP per capita  Explained by: Social support  \\\n",
       "0                          0.300706                      0.356434   \n",
       "1                          0.906653                      0.830484   \n",
       "2                          0.943856                      1.143004   \n",
       "3                          1.028466                      1.372544   \n",
       "4                          0.808262                      1.034577   \n",
       "5                          1.310396                      1.477146   \n",
       "6                          1.317286                      1.437445   \n",
       "7                          0.990273                      1.180613   \n",
       "8                          1.296692                      1.315324   \n",
       "9                          0.556156                      0.868801   \n",
       "\n",
       "   Explained by: Healthy life expectancy  \\\n",
       "0                               0.266052   \n",
       "1                               0.846330   \n",
       "2                               0.745419   \n",
       "3                               0.849774   \n",
       "4                               0.775857   \n",
       "5                               1.022608   \n",
       "6                               1.000934   \n",
       "7                               0.731134   \n",
       "8                               0.838836   \n",
       "9                               0.694941   \n",
       "\n",
       "   Explained by: Freedom to make life choices  Explained by: Generosity  \\\n",
       "0                                    0.000000                  0.135235   \n",
       "1                                    0.461946                  0.171028   \n",
       "2                                    0.083944                  0.118915   \n",
       "3                                    0.520840                  0.070100   \n",
       "4                                    0.378076                  0.107226   \n",
       "5                                    0.621877                  0.324974   \n",
       "6                                    0.603369                  0.255510   \n",
       "7                                    0.467735                  0.040113   \n",
       "8                                    0.610400                  0.287454   \n",
       "9                                    0.604131                  0.176745   \n",
       "\n",
       "   Explained by: Perceptions of corruption  Dystopia + residual  \n",
       "0                                 0.001226             1.507236  \n",
       "1                                 0.025361             1.640897  \n",
       "2                                 0.129191             1.840812  \n",
       "3                                 0.060415             2.072541  \n",
       "4                                 0.104618             1.468162  \n",
       "5                                 0.335996             2.129804  \n",
       "6                                 0.281256             2.398446  \n",
       "7                                 0.247307             1.507633  \n",
       "8                                 0.126697             1.751917  \n",
       "9                                 0.176736             1.755262  \n",
       "\n",
       "[10 rows x 21 columns]"
      ]
     },
     "execution_count": 20,
     "metadata": {},
     "output_type": "execute_result"
    }
   ],
   "source": [
    "df.head(10)"
   ]
  },
  {
   "attachments": {},
   "cell_type": "markdown",
   "metadata": {},
   "source": [
    "## Data exploration\n",
    "We print some basic information about the data and continue our data exploration here."
   ]
  },
  {
   "cell_type": "code",
   "execution_count": 21,
   "metadata": {},
   "outputs": [
    {
     "name": "stdout",
     "output_type": "stream",
     "text": [
      "<class 'pandas.core.frame.DataFrame'>\n",
      "RangeIndex: 141 entries, 0 to 140\n",
      "Data columns (total 21 columns):\n",
      " #   Column                                      Non-Null Count  Dtype  \n",
      "---  ------                                      --------------  -----  \n",
      " 0   Country/Region                              141 non-null    object \n",
      " 1   sum_for_each_country                        141 non-null    int64  \n",
      " 2   Regional indicator                          141 non-null    object \n",
      " 3   Ladder score                                141 non-null    float64\n",
      " 4   Standard error of ladder score              141 non-null    float64\n",
      " 5   upperwhisker                                141 non-null    float64\n",
      " 6   lowerwhisker                                141 non-null    float64\n",
      " 7   Logged GDP per capita                       141 non-null    float64\n",
      " 8   Social support                              141 non-null    float64\n",
      " 9   Healthy life expectancy                     141 non-null    float64\n",
      " 10  Freedom to make life choices                141 non-null    float64\n",
      " 11  Generosity                                  141 non-null    float64\n",
      " 12  Perceptions of corruption                   141 non-null    float64\n",
      " 13  Ladder score in Dystopia                    141 non-null    float64\n",
      " 14  Explained by: Log GDP per capita            141 non-null    float64\n",
      " 15  Explained by: Social support                141 non-null    float64\n",
      " 16  Explained by: Healthy life expectancy       141 non-null    float64\n",
      " 17  Explained by: Freedom to make life choices  141 non-null    float64\n",
      " 18  Explained by: Generosity                    141 non-null    float64\n",
      " 19  Explained by: Perceptions of corruption     141 non-null    float64\n",
      " 20  Dystopia + residual                         141 non-null    float64\n",
      "dtypes: float64(18), int64(1), object(2)\n",
      "memory usage: 23.3+ KB\n"
     ]
    }
   ],
   "source": [
    "df.info()"
   ]
  },
  {
   "cell_type": "code",
   "execution_count": 22,
   "metadata": {},
   "outputs": [
    {
     "data": {
      "text/html": [
       "<div>\n",
       "<style scoped>\n",
       "    .dataframe tbody tr th:only-of-type {\n",
       "        vertical-align: middle;\n",
       "    }\n",
       "\n",
       "    .dataframe tbody tr th {\n",
       "        vertical-align: top;\n",
       "    }\n",
       "\n",
       "    .dataframe thead th {\n",
       "        text-align: right;\n",
       "    }\n",
       "</style>\n",
       "<table border=\"1\" class=\"dataframe\">\n",
       "  <thead>\n",
       "    <tr style=\"text-align: right;\">\n",
       "      <th></th>\n",
       "      <th>sum_for_each_country</th>\n",
       "      <th>Ladder score</th>\n",
       "      <th>Standard error of ladder score</th>\n",
       "      <th>upperwhisker</th>\n",
       "      <th>lowerwhisker</th>\n",
       "      <th>Logged GDP per capita</th>\n",
       "      <th>Social support</th>\n",
       "      <th>Healthy life expectancy</th>\n",
       "      <th>Freedom to make life choices</th>\n",
       "      <th>Generosity</th>\n",
       "      <th>Perceptions of corruption</th>\n",
       "      <th>Ladder score in Dystopia</th>\n",
       "      <th>Explained by: Log GDP per capita</th>\n",
       "      <th>Explained by: Social support</th>\n",
       "      <th>Explained by: Healthy life expectancy</th>\n",
       "      <th>Explained by: Freedom to make life choices</th>\n",
       "      <th>Explained by: Generosity</th>\n",
       "      <th>Explained by: Perceptions of corruption</th>\n",
       "      <th>Dystopia + residual</th>\n",
       "    </tr>\n",
       "  </thead>\n",
       "  <tbody>\n",
       "    <tr>\n",
       "      <th>count</th>\n",
       "      <td>1.410000e+02</td>\n",
       "      <td>141.000000</td>\n",
       "      <td>141.000000</td>\n",
       "      <td>141.000000</td>\n",
       "      <td>141.000000</td>\n",
       "      <td>141.000000</td>\n",
       "      <td>141.000000</td>\n",
       "      <td>141.000000</td>\n",
       "      <td>141.000000</td>\n",
       "      <td>141.000000</td>\n",
       "      <td>141.000000</td>\n",
       "      <td>141.000000</td>\n",
       "      <td>141.000000</td>\n",
       "      <td>141.000000</td>\n",
       "      <td>141.000000</td>\n",
       "      <td>141.000000</td>\n",
       "      <td>141.000000</td>\n",
       "      <td>141.000000</td>\n",
       "      <td>141.000000</td>\n",
       "    </tr>\n",
       "    <tr>\n",
       "      <th>mean</th>\n",
       "      <td>1.753282e+09</td>\n",
       "      <td>5.471634</td>\n",
       "      <td>0.053911</td>\n",
       "      <td>5.577299</td>\n",
       "      <td>5.365969</td>\n",
       "      <td>9.252269</td>\n",
       "      <td>0.806583</td>\n",
       "      <td>64.372497</td>\n",
       "      <td>0.785478</td>\n",
       "      <td>-0.017658</td>\n",
       "      <td>0.732567</td>\n",
       "      <td>1.972317</td>\n",
       "      <td>0.855308</td>\n",
       "      <td>1.150558</td>\n",
       "      <td>0.690240</td>\n",
       "      <td>0.466122</td>\n",
       "      <td>0.187331</td>\n",
       "      <td>0.131074</td>\n",
       "      <td>1.991000</td>\n",
       "    </tr>\n",
       "    <tr>\n",
       "      <th>std</th>\n",
       "      <td>3.895620e+09</td>\n",
       "      <td>1.130283</td>\n",
       "      <td>0.018569</td>\n",
       "      <td>1.114347</td>\n",
       "      <td>1.147153</td>\n",
       "      <td>1.210399</td>\n",
       "      <td>0.124284</td>\n",
       "      <td>6.932491</td>\n",
       "      <td>0.120033</td>\n",
       "      <td>0.145710</td>\n",
       "      <td>0.178594</td>\n",
       "      <td>0.000000</td>\n",
       "      <td>0.375147</td>\n",
       "      <td>0.293551</td>\n",
       "      <td>0.249581</td>\n",
       "      <td>0.143866</td>\n",
       "      <td>0.096368</td>\n",
       "      <td>0.115305</td>\n",
       "      <td>0.542755</td>\n",
       "    </tr>\n",
       "    <tr>\n",
       "      <th>min</th>\n",
       "      <td>5.024859e+06</td>\n",
       "      <td>2.566900</td>\n",
       "      <td>0.025902</td>\n",
       "      <td>2.628270</td>\n",
       "      <td>2.505530</td>\n",
       "      <td>6.492642</td>\n",
       "      <td>0.319460</td>\n",
       "      <td>45.200001</td>\n",
       "      <td>0.396573</td>\n",
       "      <td>-0.300907</td>\n",
       "      <td>0.109784</td>\n",
       "      <td>1.972317</td>\n",
       "      <td>0.000000</td>\n",
       "      <td>0.000000</td>\n",
       "      <td>0.000000</td>\n",
       "      <td>0.000000</td>\n",
       "      <td>0.000000</td>\n",
       "      <td>0.000000</td>\n",
       "      <td>0.257241</td>\n",
       "    </tr>\n",
       "    <tr>\n",
       "      <th>25%</th>\n",
       "      <td>9.952552e+07</td>\n",
       "      <td>4.724100</td>\n",
       "      <td>0.040405</td>\n",
       "      <td>4.826248</td>\n",
       "      <td>4.603149</td>\n",
       "      <td>8.249890</td>\n",
       "      <td>0.731469</td>\n",
       "      <td>58.924454</td>\n",
       "      <td>0.714839</td>\n",
       "      <td>-0.127015</td>\n",
       "      <td>0.683019</td>\n",
       "      <td>1.972317</td>\n",
       "      <td>0.544635</td>\n",
       "      <td>0.973142</td>\n",
       "      <td>0.494102</td>\n",
       "      <td>0.381457</td>\n",
       "      <td>0.115006</td>\n",
       "      <td>0.055805</td>\n",
       "      <td>1.663300</td>\n",
       "    </tr>\n",
       "    <tr>\n",
       "      <th>50%</th>\n",
       "      <td>4.345285e+08</td>\n",
       "      <td>5.539900</td>\n",
       "      <td>0.050712</td>\n",
       "      <td>5.612537</td>\n",
       "      <td>5.450088</td>\n",
       "      <td>9.417931</td>\n",
       "      <td>0.831075</td>\n",
       "      <td>66.108261</td>\n",
       "      <td>0.803223</td>\n",
       "      <td>-0.033665</td>\n",
       "      <td>0.783122</td>\n",
       "      <td>1.972317</td>\n",
       "      <td>0.906653</td>\n",
       "      <td>1.208406</td>\n",
       "      <td>0.752730</td>\n",
       "      <td>0.487390</td>\n",
       "      <td>0.176745</td>\n",
       "      <td>0.098435</td>\n",
       "      <td>2.056798</td>\n",
       "    </tr>\n",
       "    <tr>\n",
       "      <th>75%</th>\n",
       "      <td>1.471014e+09</td>\n",
       "      <td>6.228500</td>\n",
       "      <td>0.060677</td>\n",
       "      <td>6.363886</td>\n",
       "      <td>6.138881</td>\n",
       "      <td>10.260002</td>\n",
       "      <td>0.906747</td>\n",
       "      <td>68.906342</td>\n",
       "      <td>0.881445</td>\n",
       "      <td>0.083638</td>\n",
       "      <td>0.849151</td>\n",
       "      <td>1.972317</td>\n",
       "      <td>1.167642</td>\n",
       "      <td>1.387139</td>\n",
       "      <td>0.853465</td>\n",
       "      <td>0.581142</td>\n",
       "      <td>0.254325</td>\n",
       "      <td>0.163064</td>\n",
       "      <td>2.352117</td>\n",
       "    </tr>\n",
       "    <tr>\n",
       "      <th>max</th>\n",
       "      <td>2.913112e+10</td>\n",
       "      <td>7.808700</td>\n",
       "      <td>0.120590</td>\n",
       "      <td>7.869766</td>\n",
       "      <td>7.747634</td>\n",
       "      <td>11.450681</td>\n",
       "      <td>0.974670</td>\n",
       "      <td>76.804581</td>\n",
       "      <td>0.974998</td>\n",
       "      <td>0.519587</td>\n",
       "      <td>0.935585</td>\n",
       "      <td>1.972317</td>\n",
       "      <td>1.536676</td>\n",
       "      <td>1.547567</td>\n",
       "      <td>1.137814</td>\n",
       "      <td>0.693270</td>\n",
       "      <td>0.542647</td>\n",
       "      <td>0.533162</td>\n",
       "      <td>3.440810</td>\n",
       "    </tr>\n",
       "  </tbody>\n",
       "</table>\n",
       "</div>"
      ],
      "text/plain": [
       "       sum_for_each_country  Ladder score  Standard error of ladder score  \\\n",
       "count          1.410000e+02    141.000000                      141.000000   \n",
       "mean           1.753282e+09      5.471634                        0.053911   \n",
       "std            3.895620e+09      1.130283                        0.018569   \n",
       "min            5.024859e+06      2.566900                        0.025902   \n",
       "25%            9.952552e+07      4.724100                        0.040405   \n",
       "50%            4.345285e+08      5.539900                        0.050712   \n",
       "75%            1.471014e+09      6.228500                        0.060677   \n",
       "max            2.913112e+10      7.808700                        0.120590   \n",
       "\n",
       "       upperwhisker  lowerwhisker  Logged GDP per capita  Social support  \\\n",
       "count    141.000000    141.000000             141.000000      141.000000   \n",
       "mean       5.577299      5.365969               9.252269        0.806583   \n",
       "std        1.114347      1.147153               1.210399        0.124284   \n",
       "min        2.628270      2.505530               6.492642        0.319460   \n",
       "25%        4.826248      4.603149               8.249890        0.731469   \n",
       "50%        5.612537      5.450088               9.417931        0.831075   \n",
       "75%        6.363886      6.138881              10.260002        0.906747   \n",
       "max        7.869766      7.747634              11.450681        0.974670   \n",
       "\n",
       "       Healthy life expectancy  Freedom to make life choices  Generosity  \\\n",
       "count               141.000000                    141.000000  141.000000   \n",
       "mean                 64.372497                      0.785478   -0.017658   \n",
       "std                   6.932491                      0.120033    0.145710   \n",
       "min                  45.200001                      0.396573   -0.300907   \n",
       "25%                  58.924454                      0.714839   -0.127015   \n",
       "50%                  66.108261                      0.803223   -0.033665   \n",
       "75%                  68.906342                      0.881445    0.083638   \n",
       "max                  76.804581                      0.974998    0.519587   \n",
       "\n",
       "       Perceptions of corruption  Ladder score in Dystopia  \\\n",
       "count                 141.000000                141.000000   \n",
       "mean                    0.732567                  1.972317   \n",
       "std                     0.178594                  0.000000   \n",
       "min                     0.109784                  1.972317   \n",
       "25%                     0.683019                  1.972317   \n",
       "50%                     0.783122                  1.972317   \n",
       "75%                     0.849151                  1.972317   \n",
       "max                     0.935585                  1.972317   \n",
       "\n",
       "       Explained by: Log GDP per capita  Explained by: Social support  \\\n",
       "count                        141.000000                    141.000000   \n",
       "mean                           0.855308                      1.150558   \n",
       "std                            0.375147                      0.293551   \n",
       "min                            0.000000                      0.000000   \n",
       "25%                            0.544635                      0.973142   \n",
       "50%                            0.906653                      1.208406   \n",
       "75%                            1.167642                      1.387139   \n",
       "max                            1.536676                      1.547567   \n",
       "\n",
       "       Explained by: Healthy life expectancy  \\\n",
       "count                             141.000000   \n",
       "mean                                0.690240   \n",
       "std                                 0.249581   \n",
       "min                                 0.000000   \n",
       "25%                                 0.494102   \n",
       "50%                                 0.752730   \n",
       "75%                                 0.853465   \n",
       "max                                 1.137814   \n",
       "\n",
       "       Explained by: Freedom to make life choices  Explained by: Generosity  \\\n",
       "count                                  141.000000                141.000000   \n",
       "mean                                     0.466122                  0.187331   \n",
       "std                                      0.143866                  0.096368   \n",
       "min                                      0.000000                  0.000000   \n",
       "25%                                      0.381457                  0.115006   \n",
       "50%                                      0.487390                  0.176745   \n",
       "75%                                      0.581142                  0.254325   \n",
       "max                                      0.693270                  0.542647   \n",
       "\n",
       "       Explained by: Perceptions of corruption  Dystopia + residual  \n",
       "count                               141.000000           141.000000  \n",
       "mean                                  0.131074             1.991000  \n",
       "std                                   0.115305             0.542755  \n",
       "min                                   0.000000             0.257241  \n",
       "25%                                   0.055805             1.663300  \n",
       "50%                                   0.098435             2.056798  \n",
       "75%                                   0.163064             2.352117  \n",
       "max                                   0.533162             3.440810  "
      ]
     },
     "execution_count": 22,
     "metadata": {},
     "output_type": "execute_result"
    }
   ],
   "source": [
    "## statistical summary of our data\n",
    "df.describe()"
   ]
  },
  {
   "cell_type": "markdown",
   "metadata": {},
   "source": [
    "### Variable Declaration"
   ]
  },
  {
   "cell_type": "markdown",
   "metadata": {},
   "source": [
    "- Country/Region : We show the names of the countries.\n",
    "\n",
    "- sum_for_each_country : shows the number of death cases in that country\n",
    "- Regional indicator : Shows which region the country is in.\n",
    "- Ladder score : Ladder score of countries.\n",
    "- Standard error of ladder score : Showing the error rate in the ladder score.\n",
    "- upperwhisker : upper limit of score.\n",
    "- lowerwhisker : lowe limti of score.\n",
    "- Logged GDP per capita : is the total monetary or market value of all the finished goods and services produced within a country's borders in a specific time period.\n",
    "- Social support : social support scores of countries.\n",
    "- Healthy life expectancy : healthy life expectancy of countries.\n",
    "- Freedom to make life choices : the freedom of people in that country to choose life.\n",
    "- Generosity : Generosity rate of the country.\n",
    "- Perceptions of corruption : corruption perceptions in the country..\n",
    "- Ladder score in Dystopia : Ladder score in Dystopia of the coutry (Dystopia: alternatively cacotopia or simply anti-utopia) is a community or - society that is undesirable or frightening) .\n",
    "- Explained by: Log GDP per capita : Explained Log GDP per capita ratio.\n",
    "- Explained by: Social support : Explained social support rate.\n",
    "- Explained by: Healthy life expectancy : Explained Healthy life expectancy\n",
    "- Explained by: Freedom to make life choices : Explained Freedom to make life choices\n",
    "- Explained by: Generosity : Explained Generosity\n",
    "- Explained by: Perceptions of corruption : Explained Perceptions of corruption.\n",
    "- Dystopia + residual : Dystopia + residual total rate."
   ]
  },
  {
   "cell_type": "markdown",
   "metadata": {},
   "source": [
    "## Data Cleaning"
   ]
  },
  {
   "cell_type": "code",
   "execution_count": 23,
   "metadata": {},
   "outputs": [
    {
     "name": "stdout",
     "output_type": "stream",
     "text": [
      "     Country/Region  sum_for_each_country\n",
      "55            India           29131119694\n",
      "16           Brazil           21182690594\n",
      "42           France           16105911886\n",
      "46          Germany           13686043720\n",
      "133  United Kingdom           12118271679\n",
      "108          Russia           10578569842\n",
      "61            Italy           10083161678\n",
      "129          Turkey            8840742699\n",
      "63            Japan            7338211631\n",
      "119           Spain            7071275148\n"
     ]
    }
   ],
   "source": [
    "# we sort our data based on death cases around the world\n",
    "sorted_df = df.sort_values(by='sum_for_each_country', ascending=False)\n",
    "\n",
    "# No world rankings in 2020.So we add it ourselves with this simple method\n",
    "sorted_df[\"Overall rank\"] = (sorted_df.index + 1) # Happiness Rank (we make it start from 1)\n",
    "\n",
    "\n",
    "# taking a look at top 10 countries\n",
    "desired_columns = [ 'Country/Region', 'sum_for_each_country']\n",
    "\n",
    "# Viewing 10 rows with limited columns\n",
    "subset_data = sorted_df[desired_columns].iloc[:10]\n",
    "print(subset_data)\n"
   ]
  },
  {
   "cell_type": "markdown",
   "metadata": {},
   "source": [
    "### Finding missing values"
   ]
  },
  {
   "cell_type": "code",
   "execution_count": 24,
   "metadata": {},
   "outputs": [
    {
     "data": {
      "text/plain": [
       "Index([], dtype='object')"
      ]
     },
     "execution_count": 24,
     "metadata": {},
     "output_type": "execute_result"
    }
   ],
   "source": [
    "# fetches columns with missing data in our data\n",
    "sorted_df.columns[sorted_df.isnull().any()]"
   ]
  },
  {
   "cell_type": "markdown",
   "metadata": {},
   "source": [
    "As it shown above, we do not have any missing value. "
   ]
  },
  {
   "cell_type": "markdown",
   "metadata": {},
   "source": [
    "# Visualization"
   ]
  },
  {
   "cell_type": "markdown",
   "metadata": {},
   "source": [
    "### Based on Categorical Variable\n"
   ]
  },
  {
   "cell_type": "code",
   "execution_count": 25,
   "metadata": {},
   "outputs": [
    {
     "data": {
      "image/png": "[encoded data removed]",
      "text/plain": [
       "<Figure size 1200x600 with 1 Axes>"
      ]
     },
     "metadata": {},
     "output_type": "display_data"
    }
   ],
   "source": [
    "# Regional indicator\n",
    "\n",
    "# we find our regions\n",
    "regions = happiness_df[\"Regional indicator\"]\n",
    "# How many countries does the region have ?\n",
    "\"\"\"\n",
    "value_counts()\n",
    "regions_counts.index = names of regions\n",
    "regions_counts.values = how many countries\n",
    "\"\"\"\n",
    "regions_counts = regions.value_counts()\n",
    "\n",
    "# visualize\n",
    "# Bar plot explained in detail in another of my kernel\n",
    "plt.figure(figsize=(12,6))\n",
    "plt.bar(regions_counts.index, regions_counts.values,color = \"darkred\", edgecolor = \"black\", linewidth = 2)\n",
    "plt.xticks(rotation = \"vertical\",size = 10)\n",
    "plt.ylabel(\"Number of Countries\")\n",
    "plt.title(\"Regional indicator\",size = 20)\n",
    "plt.show()"
   ]
  },
  {
   "cell_type": "markdown",
   "metadata": {},
   "source": [
    "### Based on Numerical Variable"
   ]
  },
  {
   "cell_type": "markdown",
   "metadata": {},
   "source": [
    "### Pie Chart for 15 highest death cases around world"
   ]
  },
  {
   "cell_type": "code",
   "execution_count": 26,
   "metadata": {},
   "outputs": [
    {
     "data": {
      "image/png": "[encoded data removed]",
      "text/plain": [
       "<Figure size 1000x800 with 1 Axes>"
      ]
     },
     "metadata": {},
     "output_type": "display_data"
    }
   ],
   "source": [
    "\n",
    "\n",
    "# selecting top 15 of them\n",
    "top_15=sorted_df.head(15)\n",
    "\n",
    "# doing visualization for this portion\n",
    "plt.figure(figsize=(10, 8))\n",
    "plt.pie(top_15['sum_for_each_country'], labels=top_15['Country/Region'], autopct='%1.1f%%')\n",
    "plt.title('portion of death cases in 15 top countries')\n",
    "plt.show()"
   ]
  },
  {
   "cell_type": "markdown",
   "metadata": {},
   "source": [
    "### Death rate based on regions\n",
    "\n",
    "To find the death rate of the region;\n",
    "\n",
    "We collect the death rate of the countries in that region.\n",
    "\n",
    "and divide by the number of countries in that region.\n",
    "\n",
    "example: \n",
    "\n",
    "i = western Europe\n",
    "\n",
    "x = all countries in this region.\n",
    "\n",
    "death_rate = sum of happiness rates / x"
   ]
  },
  {
   "cell_type": "code",
   "execution_count": 27,
   "metadata": {},
   "outputs": [
    {
     "data": {
      "application/vnd.plotly.v1+json": {
       "config": {
        "linkText": "Export to plot.ly",
        "plotlyServerURL": "https://plot.ly",
        "showLink": false
       },
       "data": [
        {
         "domain": {
          "x": [
           0,
           0.8
          ]
         },
         "hole": 0.3,
         "hoverinfo": "label+percent+name",
         "labels": [
          "South Asia",
          "Latin America and Caribbean",
          "Western Europe",
          "Commonwealth of Independent States",
          "Middle East and North Africa",
          "East Asia",
          "Southeast Asia",
          "Central and Eastern Europe",
          "North America and ANZ",
          "Sub-Saharan Africa"
         ],
         "name": "Death Rate",
         "type": "pie",
         "values": [
          4685381179.714286,
          2143471290.2380953,
          3969619370.35,
          1597243481.1818182,
          1453310138.5,
          2995578472,
          1956710070.625,
          872306986.6,
          2120110235,
          137886020.2162162
         ]
        }
       ],
       "layout": {
        "annotations": [
         {
          "font": {
           "size": 13
          },
          "showarrow": true,
          "text": "Death Rate",
          "x": 0.2,
          "y": 0.9
         }
        ],
        "template": {
         "data": {
          "bar": [
           {
            "error_x": {
             "color": "#2a3f5f"
            },
            "error_y": {
             "color": "#2a3f5f"
            },
            "marker": {
             "line": {
              "color": "#E5ECF6",
              "width": 0.5
             },
             "pattern": {
              "fillmode": "overlay",
              "size": 10,
              "solidity": 0.2
             }
            },
            "type": "bar"
           }
          ],
          "barpolar": [
           {
            "marker": {
             "line": {
              "color": "#E5ECF6",
              "width": 0.5
             },
             "pattern": {
              "fillmode": "overlay",
              "size": 10,
              "solidity": 0.2
             }
            },
            "type": "barpolar"
           }
          ],
          "carpet": [
           {
            "aaxis": {
             "endlinecolor": "#2a3f5f",
             "gridcolor": "white",
             "linecolor": "white",
             "minorgridcolor": "white",
             "startlinecolor": "#2a3f5f"
            },
            "baxis": {
             "endlinecolor": "#2a3f5f",
             "gridcolor": "white",
             "linecolor": "white",
             "minorgridcolor": "white",
             "startlinecolor": "#2a3f5f"
            },
            "type": "carpet"
           }
          ],
          "choropleth": [
           {
            "colorbar": {
             "outlinewidth": 0,
             "ticks": ""
            },
            "type": "choropleth"
           }
          ],
          "contour": [
           {
            "colorbar": {
             "outlinewidth": 0,
             "ticks": ""
            },
            "colorscale": [
             [
              0,
              "#0d0887"
             ],
             [
              0.1111111111111111,
              "#46039f"
             ],
             [
              0.2222222222222222,
              "#7201a8"
             ],
             [
              0.3333333333333333,
              "#9c179e"
             ],
             [
              0.4444444444444444,
              "#bd3786"
             ],
             [
              0.5555555555555556,
              "#d8576b"
             ],
             [
              0.6666666666666666,
              "#ed7953"
             ],
             [
              0.7777777777777778,
              "#fb9f3a"
             ],
             [
              0.8888888888888888,
              "#fdca26"
             ],
             [
              1,
              "#f0f921"
             ]
            ],
            "type": "contour"
           }
          ],
          "contourcarpet": [
           {
            "colorbar": {
             "outlinewidth": 0,
             "ticks": ""
            },
            "type": "contourcarpet"
           }
          ],
          "heatmap": [
           {
            "colorbar": {
             "outlinewidth": 0,
             "ticks": ""
            },
            "colorscale": [
             [
              0,
              "#0d0887"
             ],
             [
              0.1111111111111111,
              "#46039f"
             ],
             [
              0.2222222222222222,
              "#7201a8"
             ],
             [
              0.3333333333333333,
              "#9c179e"
             ],
             [
              0.4444444444444444,
              "#bd3786"
             ],
             [
              0.5555555555555556,
              "#d8576b"
             ],
             [
              0.6666666666666666,
              "#ed7953"
             ],
             [
              0.7777777777777778,
              "#fb9f3a"
             ],
             [
              0.8888888888888888,
              "#fdca26"
             ],
             [
              1,
              "#f0f921"
             ]
            ],
            "type": "heatmap"
           }
          ],
          "heatmapgl": [
           {
            "colorbar": {
             "outlinewidth": 0,
             "ticks": ""
            },
            "colorscale": [
             [
              0,
              "#0d0887"
             ],
             [
              0.1111111111111111,
              "#46039f"
             ],
             [
              0.2222222222222222,
              "#7201a8"
             ],
             [
              0.3333333333333333,
              "#9c179e"
             ],
             [
              0.4444444444444444,
              "#bd3786"
             ],
             [
              0.5555555555555556,
              "#d8576b"
             ],
             [
              0.6666666666666666,
              "#ed7953"
             ],
             [
              0.7777777777777778,
              "#fb9f3a"
             ],
             [
              0.8888888888888888,
              "#fdca26"
             ],
             [
              1,
              "#f0f921"
             ]
            ],
            "type": "heatmapgl"
           }
          ],
          "histogram": [
           {
            "marker": {
             "pattern": {
              "fillmode": "overlay",
              "size": 10,
              "solidity": 0.2
             }
            },
            "type": "histogram"
           }
          ],
          "histogram2d": [
           {
            "colorbar": {
             "outlinewidth": 0,
             "ticks": ""
            },
            "colorscale": [
             [
              0,
              "#0d0887"
             ],
             [
              0.1111111111111111,
              "#46039f"
             ],
             [
              0.2222222222222222,
              "#7201a8"
             ],
             [
              0.3333333333333333,
              "#9c179e"
             ],
             [
              0.4444444444444444,
              "#bd3786"
             ],
             [
              0.5555555555555556,
              "#d8576b"
             ],
             [
              0.6666666666666666,
              "#ed7953"
             ],
             [
              0.7777777777777778,
              "#fb9f3a"
             ],
             [
              0.8888888888888888,
              "#fdca26"
             ],
             [
              1,
              "#f0f921"
             ]
            ],
            "type": "histogram2d"
           }
          ],
          "histogram2dcontour": [
           {
            "colorbar": {
             "outlinewidth": 0,
             "ticks": ""
            },
            "colorscale": [
             [
              0,
              "#0d0887"
             ],
             [
              0.1111111111111111,
              "#46039f"
             ],
             [
              0.2222222222222222,
              "#7201a8"
             ],
             [
              0.3333333333333333,
              "#9c179e"
             ],
             [
              0.4444444444444444,
              "#bd3786"
             ],
             [
              0.5555555555555556,
              "#d8576b"
             ],
             [
              0.6666666666666666,
              "#ed7953"
             ],
             [
              0.7777777777777778,
              "#fb9f3a"
             ],
             [
              0.8888888888888888,
              "#fdca26"
             ],
             [
              1,
              "#f0f921"
             ]
            ],
            "type": "histogram2dcontour"
           }
          ],
          "mesh3d": [
           {
            "colorbar": {
             "outlinewidth": 0,
             "ticks": ""
            },
            "type": "mesh3d"
           }
          ],
          "parcoords": [
           {
            "line": {
             "colorbar": {
              "outlinewidth": 0,
              "ticks": ""
             }
            },
            "type": "parcoords"
           }
          ],
          "pie": [
           {
            "automargin": true,
            "type": "pie"
           }
          ],
          "scatter": [
           {
            "fillpattern": {
             "fillmode": "overlay",
             "size": 10,
             "solidity": 0.2
            },
            "type": "scatter"
           }
          ],
          "scatter3d": [
           {
            "line": {
             "colorbar": {
              "outlinewidth": 0,
              "ticks": ""
             }
            },
            "marker": {
             "colorbar": {
              "outlinewidth": 0,
              "ticks": ""
             }
            },
            "type": "scatter3d"
           }
          ],
          "scattercarpet": [
           {
            "marker": {
             "colorbar": {
              "outlinewidth": 0,
              "ticks": ""
             }
            },
            "type": "scattercarpet"
           }
          ],
          "scattergeo": [
           {
            "marker": {
             "colorbar": {
              "outlinewidth": 0,
              "ticks": ""
             }
            },
            "type": "scattergeo"
           }
          ],
          "scattergl": [
           {
            "marker": {
             "colorbar": {
              "outlinewidth": 0,
              "ticks": ""
             }
            },
            "type": "scattergl"
           }
          ],
          "scattermapbox": [
           {
            "marker": {
             "colorbar": {
              "outlinewidth": 0,
              "ticks": ""
             }
            },
            "type": "scattermapbox"
           }
          ],
          "scatterpolar": [
           {
            "marker": {
             "colorbar": {
              "outlinewidth": 0,
              "ticks": ""
             }
            },
            "type": "scatterpolar"
           }
          ],
          "scatterpolargl": [
           {
            "marker": {
             "colorbar": {
              "outlinewidth": 0,
              "ticks": ""
             }
            },
            "type": "scatterpolargl"
           }
          ],
          "scatterternary": [
           {
            "marker": {
             "colorbar": {
              "outlinewidth": 0,
              "ticks": ""
             }
            },
            "type": "scatterternary"
           }
          ],
          "surface": [
           {
            "colorbar": {
             "outlinewidth": 0,
             "ticks": ""
            },
            "colorscale": [
             [
              0,
              "#0d0887"
             ],
             [
              0.1111111111111111,
              "#46039f"
             ],
             [
              0.2222222222222222,
              "#7201a8"
             ],
             [
              0.3333333333333333,
              "#9c179e"
             ],
             [
              0.4444444444444444,
              "#bd3786"
             ],
             [
              0.5555555555555556,
              "#d8576b"
             ],
             [
              0.6666666666666666,
              "#ed7953"
             ],
             [
              0.7777777777777778,
              "#fb9f3a"
             ],
             [
              0.8888888888888888,
              "#fdca26"
             ],
             [
              1,
              "#f0f921"
             ]
            ],
            "type": "surface"
           }
          ],
          "table": [
           {
            "cells": {
             "fill": {
              "color": "#EBF0F8"
             },
             "line": {
              "color": "white"
             }
            },
            "header": {
             "fill": {
              "color": "#C8D4E3"
             },
             "line": {
              "color": "white"
             }
            },
            "type": "table"
           }
          ]
         },
         "layout": {
          "annotationdefaults": {
           "arrowcolor": "#2a3f5f",
           "arrowhead": 0,
           "arrowwidth": 1
          },
          "autotypenumbers": "strict",
          "coloraxis": {
           "colorbar": {
            "outlinewidth": 0,
            "ticks": ""
           }
          },
          "colorscale": {
           "diverging": [
            [
             0,
             "#8e0152"
            ],
            [
             0.1,
             "#c51b7d"
            ],
            [
             0.2,
             "#de77ae"
            ],
            [
             0.3,
             "#f1b6da"
            ],
            [
             0.4,
             "#fde0ef"
            ],
            [
             0.5,
             "#f7f7f7"
            ],
            [
             0.6,
             "#e6f5d0"
            ],
            [
             0.7,
             "#b8e186"
            ],
            [
             0.8,
             "#7fbc41"
            ],
            [
             0.9,
             "#4d9221"
            ],
            [
             1,
             "#276419"
            ]
           ],
           "sequential": [
            [
             0,
             "#0d0887"
            ],
            [
             0.1111111111111111,
             "#46039f"
            ],
            [
             0.2222222222222222,
             "#7201a8"
            ],
            [
             0.3333333333333333,
             "#9c179e"
            ],
            [
             0.4444444444444444,
             "#bd3786"
            ],
            [
             0.5555555555555556,
             "#d8576b"
            ],
            [
             0.6666666666666666,
             "#ed7953"
            ],
            [
             0.7777777777777778,
             "#fb9f3a"
            ],
            [
             0.8888888888888888,
             "#fdca26"
            ],
            [
             1,
             "#f0f921"
            ]
           ],
           "sequentialminus": [
            [
             0,
             "#0d0887"
            ],
            [
             0.1111111111111111,
             "#46039f"
            ],
            [
             0.2222222222222222,
             "#7201a8"
            ],
            [
             0.3333333333333333,
             "#9c179e"
            ],
            [
             0.4444444444444444,
             "#bd3786"
            ],
            [
             0.5555555555555556,
             "#d8576b"
            ],
            [
             0.6666666666666666,
             "#ed7953"
            ],
            [
             0.7777777777777778,
             "#fb9f3a"
            ],
            [
             0.8888888888888888,
             "#fdca26"
            ],
            [
             1,
             "#f0f921"
            ]
           ]
          },
          "colorway": [
           "#636efa",
           "#EF553B",
           "#00cc96",
           "#ab63fa",
           "#FFA15A",
           "#19d3f3",
           "#FF6692",
           "#B6E880",
           "#FF97FF",
           "#FECB52"
          ],
          "font": {
           "color": "#2a3f5f"
          },
          "geo": {
           "bgcolor": "white",
           "lakecolor": "white",
           "landcolor": "#E5ECF6",
           "showlakes": true,
           "showland": true,
           "subunitcolor": "white"
          },
          "hoverlabel": {
           "align": "left"
          },
          "hovermode": "closest",
          "mapbox": {
           "style": "light"
          },
          "paper_bgcolor": "white",
          "plot_bgcolor": "#E5ECF6",
          "polar": {
           "angularaxis": {
            "gridcolor": "white",
            "linecolor": "white",
            "ticks": ""
           },
           "bgcolor": "#E5ECF6",
           "radialaxis": {
            "gridcolor": "white",
            "linecolor": "white",
            "ticks": ""
           }
          },
          "scene": {
           "xaxis": {
            "backgroundcolor": "#E5ECF6",
            "gridcolor": "white",
            "gridwidth": 2,
            "linecolor": "white",
            "showbackground": true,
            "ticks": "",
            "zerolinecolor": "white"
           },
           "yaxis": {
            "backgroundcolor": "#E5ECF6",
            "gridcolor": "white",
            "gridwidth": 2,
            "linecolor": "white",
            "showbackground": true,
            "ticks": "",
            "zerolinecolor": "white"
           },
           "zaxis": {
            "backgroundcolor": "#E5ECF6",
            "gridcolor": "white",
            "gridwidth": 2,
            "linecolor": "white",
            "showbackground": true,
            "ticks": "",
            "zerolinecolor": "white"
           }
          },
          "shapedefaults": {
           "line": {
            "color": "#2a3f5f"
           }
          },
          "ternary": {
           "aaxis": {
            "gridcolor": "white",
            "linecolor": "white",
            "ticks": ""
           },
           "baxis": {
            "gridcolor": "white",
            "linecolor": "white",
            "ticks": ""
           },
           "bgcolor": "#E5ECF6",
           "caxis": {
            "gridcolor": "white",
            "linecolor": "white",
            "ticks": ""
           }
          },
          "title": {
           "x": 0.05
          },
          "xaxis": {
           "automargin": true,
           "gridcolor": "white",
           "linecolor": "white",
           "ticks": "",
           "title": {
            "standoff": 15
           },
           "zerolinecolor": "white",
           "zerolinewidth": 2
          },
          "yaxis": {
           "automargin": true,
           "gridcolor": "white",
           "linecolor": "white",
           "ticks": "",
           "title": {
            "standoff": 15
           },
           "zerolinecolor": "white",
           "zerolinewidth": 2
          }
         }
        },
        "title": {
         "text": "Death Rates by Region"
        }
       }
      }
     },
     "metadata": {},
     "output_type": "display_data"
    }
   ],
   "source": [
    "\n",
    "# We put our singular regions on a list\n",
    "regions =list(sorted_df[\"Regional indicator\"].unique()) \n",
    "# happiness rates of regions\n",
    "regions_death_rate = []\n",
    "\n",
    "for i in regions:\n",
    "    x = sorted_df[sorted_df[\"Regional indicator\"] == i]\n",
    "    death_rate = sum(x[\"sum_for_each_country\"]) / len(x)\n",
    "    regions_death_rate.append(death_rate) # add list\n",
    "\n",
    "# figure\n",
    "# We create a figure and do it for its operations.\n",
    "fig = {\n",
    "  \"data\": [\n",
    "    {\n",
    "      \"values\": regions_death_rate,\n",
    "      \"labels\": regions, # region names on the side\n",
    "      \"domain\": {\"x\": [0, .8]}, # chart size\n",
    "      \"name\": \"Death Rate\",\n",
    "      \"hoverinfo\":\"label+percent+name\", # text on hover\n",
    "      \"hole\": .3, # the size of the hole in the middle\n",
    "      \"type\": \"pie\" # chart type\n",
    "    },],\n",
    "  \"layout\": {\n",
    "        \"title\":\"Death Rates by Region\", # chart title\n",
    "        \"annotations\": [ # regulation of chart\n",
    "            { \"font\": { \"size\": 13},\n",
    "              \"showarrow\": True, # show arrow on\n",
    "              \"text\": \"Death Rate\", # arrow text\n",
    "                \"x\": 0.2, # x-axis\n",
    "                \"y\": 0.9 # y-axis\n",
    "            },\n",
    "        ]\n",
    "    }\n",
    "}\n",
    "iplot(fig)"
   ]
  },
  {
   "cell_type": "markdown",
   "metadata": {},
   "source": [
    "### Comparison of the 3 values of the top 10 countries.\n",
    "- Ladder Score \n",
    "- Freedom to make life choices\n",
    "- sum of death cases divided by 1M to see affects"
   ]
  },
  {
   "cell_type": "code",
   "execution_count": 28,
   "metadata": {},
   "outputs": [
    {
     "data": {
      "application/vnd.plotly.v1+json": {
       "config": {
        "linkText": "Export to plot.ly",
        "plotlyServerURL": "https://plot.ly",
        "showLink": false
       },
       "data": [
        {
         "marker": {
          "color": "rgba(255, 52, 0, 0.5)",
          "line": {
           "color": "black",
           "width": 2
          }
         },
         "name": "Ladder score",
         "text": [
          56,
          17,
          43,
          47,
          134,
          109,
          62,
          130,
          64,
          120
         ],
         "type": "bar",
         "x": [
          "India",
          "Brazil",
          "France",
          "Germany",
          "United Kingdom",
          "Russia",
          "Italy",
          "Turkey",
          "Japan",
          "Spain"
         ],
         "y": [
          3.573299885,
          6.375599861,
          6.663799763,
          7.075799942,
          7.164500237,
          5.546000004,
          6.38740015,
          5.131800175,
          5.870800018,
          6.400899887
         ]
        },
        {
         "marker": {
          "color": "rgba(0, 99, 25, 0.7)",
          "line": {
           "color": "black",
           "width": 2
          }
         },
         "name": "Freedom to make life choices",
         "text": [
          56,
          17,
          43,
          47,
          134,
          109,
          62,
          130,
          64,
          120
         ],
         "type": "bar",
         "x": [
          "India",
          "Brazil",
          "France",
          "Germany",
          "United Kingdom",
          "Russia",
          "Italy",
          "Turkey",
          "Japan",
          "Spain"
         ],
         "y": [
          0.881444871,
          0.799804807,
          0.825467646,
          0.867371082,
          0.834743679,
          0.729892612,
          0.66465199,
          0.608830452,
          0.809961379,
          0.751989543
         ]
        },
        {
         "marker": {
          "color": "rgba(106, 90, 205, 1)",
          "line": {
           "color": "black",
           "width": 2
          }
         },
         "name": "death cases",
         "text": [
          56,
          17,
          43,
          47,
          134,
          109,
          62,
          130,
          64,
          120
         ],
         "type": "bar",
         "x": [
          "India",
          "Brazil",
          "France",
          "Germany",
          "United Kingdom",
          "Russia",
          "Italy",
          "Turkey",
          "Japan",
          "Spain"
         ],
         "y": [
          29.131119694,
          21.182690594,
          16.105911886,
          13.68604372,
          12.118271679,
          10.578569842,
          10.083161678,
          8.840742699,
          7.338211631,
          7.071275148
         ]
        }
       ],
       "layout": {
        "barmode": "group",
        "template": {
         "data": {
          "bar": [
           {
            "error_x": {
             "color": "#2a3f5f"
            },
            "error_y": {
             "color": "#2a3f5f"
            },
            "marker": {
             "line": {
              "color": "#E5ECF6",
              "width": 0.5
             },
             "pattern": {
              "fillmode": "overlay",
              "size": 10,
              "solidity": 0.2
             }
            },
            "type": "bar"
           }
          ],
          "barpolar": [
           {
            "marker": {
             "line": {
              "color": "#E5ECF6",
              "width": 0.5
             },
             "pattern": {
              "fillmode": "overlay",
              "size": 10,
              "solidity": 0.2
             }
            },
            "type": "barpolar"
           }
          ],
          "carpet": [
           {
            "aaxis": {
             "endlinecolor": "#2a3f5f",
             "gridcolor": "white",
             "linecolor": "white",
             "minorgridcolor": "white",
             "startlinecolor": "#2a3f5f"
            },
            "baxis": {
             "endlinecolor": "#2a3f5f",
             "gridcolor": "white",
             "linecolor": "white",
             "minorgridcolor": "white",
             "startlinecolor": "#2a3f5f"
            },
            "type": "carpet"
           }
          ],
          "choropleth": [
           {
            "colorbar": {
             "outlinewidth": 0,
             "ticks": ""
            },
            "type": "choropleth"
           }
          ],
          "contour": [
           {
            "colorbar": {
             "outlinewidth": 0,
             "ticks": ""
            },
            "colorscale": [
             [
              0,
              "#0d0887"
             ],
             [
              0.1111111111111111,
              "#46039f"
             ],
             [
              0.2222222222222222,
              "#7201a8"
             ],
             [
              0.3333333333333333,
              "#9c179e"
             ],
             [
              0.4444444444444444,
              "#bd3786"
             ],
             [
              0.5555555555555556,
              "#d8576b"
             ],
             [
              0.6666666666666666,
              "#ed7953"
             ],
             [
              0.7777777777777778,
              "#fb9f3a"
             ],
             [
              0.8888888888888888,
              "#fdca26"
             ],
             [
              1,
              "#f0f921"
             ]
            ],
            "type": "contour"
           }
          ],
          "contourcarpet": [
           {
            "colorbar": {
             "outlinewidth": 0,
             "ticks": ""
            },
            "type": "contourcarpet"
           }
          ],
          "heatmap": [
           {
            "colorbar": {
             "outlinewidth": 0,
             "ticks": ""
            },
            "colorscale": [
             [
              0,
              "#0d0887"
             ],
             [
              0.1111111111111111,
              "#46039f"
             ],
             [
              0.2222222222222222,
              "#7201a8"
             ],
             [
              0.3333333333333333,
              "#9c179e"
             ],
             [
              0.4444444444444444,
              "#bd3786"
             ],
             [
              0.5555555555555556,
              "#d8576b"
             ],
             [
              0.6666666666666666,
              "#ed7953"
             ],
             [
              0.7777777777777778,
              "#fb9f3a"
             ],
             [
              0.8888888888888888,
              "#fdca26"
             ],
             [
              1,
              "#f0f921"
             ]
            ],
            "type": "heatmap"
           }
          ],
          "heatmapgl": [
           {
            "colorbar": {
             "outlinewidth": 0,
             "ticks": ""
            },
            "colorscale": [
             [
              0,
              "#0d0887"
             ],
             [
              0.1111111111111111,
              "#46039f"
             ],
             [
              0.2222222222222222,
              "#7201a8"
             ],
             [
              0.3333333333333333,
              "#9c179e"
             ],
             [
              0.4444444444444444,
              "#bd3786"
             ],
             [
              0.5555555555555556,
              "#d8576b"
             ],
             [
              0.6666666666666666,
              "#ed7953"
             ],
             [
              0.7777777777777778,
              "#fb9f3a"
             ],
             [
              0.8888888888888888,
              "#fdca26"
             ],
             [
              1,
              "#f0f921"
             ]
            ],
            "type": "heatmapgl"
           }
          ],
          "histogram": [
           {
            "marker": {
             "pattern": {
              "fillmode": "overlay",
              "size": 10,
              "solidity": 0.2
             }
            },
            "type": "histogram"
           }
          ],
          "histogram2d": [
           {
            "colorbar": {
             "outlinewidth": 0,
             "ticks": ""
            },
            "colorscale": [
             [
              0,
              "#0d0887"
             ],
             [
              0.1111111111111111,
              "#46039f"
             ],
             [
              0.2222222222222222,
              "#7201a8"
             ],
             [
              0.3333333333333333,
              "#9c179e"
             ],
             [
              0.4444444444444444,
              "#bd3786"
             ],
             [
              0.5555555555555556,
              "#d8576b"
             ],
             [
              0.6666666666666666,
              "#ed7953"
             ],
             [
              0.7777777777777778,
              "#fb9f3a"
             ],
             [
              0.8888888888888888,
              "#fdca26"
             ],
             [
              1,
              "#f0f921"
             ]
            ],
            "type": "histogram2d"
           }
          ],
          "histogram2dcontour": [
           {
            "colorbar": {
             "outlinewidth": 0,
             "ticks": ""
            },
            "colorscale": [
             [
              0,
              "#0d0887"
             ],
             [
              0.1111111111111111,
              "#46039f"
             ],
             [
              0.2222222222222222,
              "#7201a8"
             ],
             [
              0.3333333333333333,
              "#9c179e"
             ],
             [
              0.4444444444444444,
              "#bd3786"
             ],
             [
              0.5555555555555556,
              "#d8576b"
             ],
             [
              0.6666666666666666,
              "#ed7953"
             ],
             [
              0.7777777777777778,
              "#fb9f3a"
             ],
             [
              0.8888888888888888,
              "#fdca26"
             ],
             [
              1,
              "#f0f921"
             ]
            ],
            "type": "histogram2dcontour"
           }
          ],
          "mesh3d": [
           {
            "colorbar": {
             "outlinewidth": 0,
             "ticks": ""
            },
            "type": "mesh3d"
           }
          ],
          "parcoords": [
           {
            "line": {
             "colorbar": {
              "outlinewidth": 0,
              "ticks": ""
             }
            },
            "type": "parcoords"
           }
          ],
          "pie": [
           {
            "automargin": true,
            "type": "pie"
           }
          ],
          "scatter": [
           {
            "fillpattern": {
             "fillmode": "overlay",
             "size": 10,
             "solidity": 0.2
            },
            "type": "scatter"
           }
          ],
          "scatter3d": [
           {
            "line": {
             "colorbar": {
              "outlinewidth": 0,
              "ticks": ""
             }
            },
            "marker": {
             "colorbar": {
              "outlinewidth": 0,
              "ticks": ""
             }
            },
            "type": "scatter3d"
           }
          ],
          "scattercarpet": [
           {
            "marker": {
             "colorbar": {
              "outlinewidth": 0,
              "ticks": ""
             }
            },
            "type": "scattercarpet"
           }
          ],
          "scattergeo": [
           {
            "marker": {
             "colorbar": {
              "outlinewidth": 0,
              "ticks": ""
             }
            },
            "type": "scattergeo"
           }
          ],
          "scattergl": [
           {
            "marker": {
             "colorbar": {
              "outlinewidth": 0,
              "ticks": ""
             }
            },
            "type": "scattergl"
           }
          ],
          "scattermapbox": [
           {
            "marker": {
             "colorbar": {
              "outlinewidth": 0,
              "ticks": ""
             }
            },
            "type": "scattermapbox"
           }
          ],
          "scatterpolar": [
           {
            "marker": {
             "colorbar": {
              "outlinewidth": 0,
              "ticks": ""
             }
            },
            "type": "scatterpolar"
           }
          ],
          "scatterpolargl": [
           {
            "marker": {
             "colorbar": {
              "outlinewidth": 0,
              "ticks": ""
             }
            },
            "type": "scatterpolargl"
           }
          ],
          "scatterternary": [
           {
            "marker": {
             "colorbar": {
              "outlinewidth": 0,
              "ticks": ""
             }
            },
            "type": "scatterternary"
           }
          ],
          "surface": [
           {
            "colorbar": {
             "outlinewidth": 0,
             "ticks": ""
            },
            "colorscale": [
             [
              0,
              "#0d0887"
             ],
             [
              0.1111111111111111,
              "#46039f"
             ],
             [
              0.2222222222222222,
              "#7201a8"
             ],
             [
              0.3333333333333333,
              "#9c179e"
             ],
             [
              0.4444444444444444,
              "#bd3786"
             ],
             [
              0.5555555555555556,
              "#d8576b"
             ],
             [
              0.6666666666666666,
              "#ed7953"
             ],
             [
              0.7777777777777778,
              "#fb9f3a"
             ],
             [
              0.8888888888888888,
              "#fdca26"
             ],
             [
              1,
              "#f0f921"
             ]
            ],
            "type": "surface"
           }
          ],
          "table": [
           {
            "cells": {
             "fill": {
              "color": "#EBF0F8"
             },
             "line": {
              "color": "white"
             }
            },
            "header": {
             "fill": {
              "color": "#C8D4E3"
             },
             "line": {
              "color": "white"
             }
            },
            "type": "table"
           }
          ]
         },
         "layout": {
          "annotationdefaults": {
           "arrowcolor": "#2a3f5f",
           "arrowhead": 0,
           "arrowwidth": 1
          },
          "autotypenumbers": "strict",
          "coloraxis": {
           "colorbar": {
            "outlinewidth": 0,
            "ticks": ""
           }
          },
          "colorscale": {
           "diverging": [
            [
             0,
             "#8e0152"
            ],
            [
             0.1,
             "#c51b7d"
            ],
            [
             0.2,
             "#de77ae"
            ],
            [
             0.3,
             "#f1b6da"
            ],
            [
             0.4,
             "#fde0ef"
            ],
            [
             0.5,
             "#f7f7f7"
            ],
            [
             0.6,
             "#e6f5d0"
            ],
            [
             0.7,
             "#b8e186"
            ],
            [
             0.8,
             "#7fbc41"
            ],
            [
             0.9,
             "#4d9221"
            ],
            [
             1,
             "#276419"
            ]
           ],
           "sequential": [
            [
             0,
             "#0d0887"
            ],
            [
             0.1111111111111111,
             "#46039f"
            ],
            [
             0.2222222222222222,
             "#7201a8"
            ],
            [
             0.3333333333333333,
             "#9c179e"
            ],
            [
             0.4444444444444444,
             "#bd3786"
            ],
            [
             0.5555555555555556,
             "#d8576b"
            ],
            [
             0.6666666666666666,
             "#ed7953"
            ],
            [
             0.7777777777777778,
             "#fb9f3a"
            ],
            [
             0.8888888888888888,
             "#fdca26"
            ],
            [
             1,
             "#f0f921"
            ]
           ],
           "sequentialminus": [
            [
             0,
             "#0d0887"
            ],
            [
             0.1111111111111111,
             "#46039f"
            ],
            [
             0.2222222222222222,
             "#7201a8"
            ],
            [
             0.3333333333333333,
             "#9c179e"
            ],
            [
             0.4444444444444444,
             "#bd3786"
            ],
            [
             0.5555555555555556,
             "#d8576b"
            ],
            [
             0.6666666666666666,
             "#ed7953"
            ],
            [
             0.7777777777777778,
             "#fb9f3a"
            ],
            [
             0.8888888888888888,
             "#fdca26"
            ],
            [
             1,
             "#f0f921"
            ]
           ]
          },
          "colorway": [
           "#636efa",
           "#EF553B",
           "#00cc96",
           "#ab63fa",
           "#FFA15A",
           "#19d3f3",
           "#FF6692",
           "#B6E880",
           "#FF97FF",
           "#FECB52"
          ],
          "font": {
           "color": "#2a3f5f"
          },
          "geo": {
           "bgcolor": "white",
           "lakecolor": "white",
           "landcolor": "#E5ECF6",
           "showlakes": true,
           "showland": true,
           "subunitcolor": "white"
          },
          "hoverlabel": {
           "align": "left"
          },
          "hovermode": "closest",
          "mapbox": {
           "style": "light"
          },
          "paper_bgcolor": "white",
          "plot_bgcolor": "#E5ECF6",
          "polar": {
           "angularaxis": {
            "gridcolor": "white",
            "linecolor": "white",
            "ticks": ""
           },
           "bgcolor": "#E5ECF6",
           "radialaxis": {
            "gridcolor": "white",
            "linecolor": "white",
            "ticks": ""
           }
          },
          "scene": {
           "xaxis": {
            "backgroundcolor": "#E5ECF6",
            "gridcolor": "white",
            "gridwidth": 2,
            "linecolor": "white",
            "showbackground": true,
            "ticks": "",
            "zerolinecolor": "white"
           },
           "yaxis": {
            "backgroundcolor": "#E5ECF6",
            "gridcolor": "white",
            "gridwidth": 2,
            "linecolor": "white",
            "showbackground": true,
            "ticks": "",
            "zerolinecolor": "white"
           },
           "zaxis": {
            "backgroundcolor": "#E5ECF6",
            "gridcolor": "white",
            "gridwidth": 2,
            "linecolor": "white",
            "showbackground": true,
            "ticks": "",
            "zerolinecolor": "white"
           }
          },
          "shapedefaults": {
           "line": {
            "color": "#2a3f5f"
           }
          },
          "ternary": {
           "aaxis": {
            "gridcolor": "white",
            "linecolor": "white",
            "ticks": ""
           },
           "baxis": {
            "gridcolor": "white",
            "linecolor": "white",
            "ticks": ""
           },
           "bgcolor": "#E5ECF6",
           "caxis": {
            "gridcolor": "white",
            "linecolor": "white",
            "ticks": ""
           }
          },
          "title": {
           "x": 0.05
          },
          "xaxis": {
           "automargin": true,
           "gridcolor": "white",
           "linecolor": "white",
           "ticks": "",
           "title": {
            "standoff": 15
           },
           "zerolinecolor": "white",
           "zerolinewidth": 2
          },
          "yaxis": {
           "automargin": true,
           "gridcolor": "white",
           "linecolor": "white",
           "ticks": "",
           "title": {
            "standoff": 15
           },
           "zerolinecolor": "white",
           "zerolinewidth": 2
          }
         }
        }
       }
      }
     },
     "metadata": {},
     "output_type": "display_data"
    }
   ],
   "source": [
    "\n",
    "\n",
    "# top 10 countries in happiness ranking\n",
    "df2020 = sorted_df.iloc[:10,:]\n",
    "\n",
    "# create trace1(Ladder score)\n",
    "trace1 = go.Bar(\n",
    "                x = df2020[\"Country/Region\"], # x-axis\n",
    "                y = df2020[\"Ladder score\"], # y-axis\n",
    "                name = \"Ladder score\", # text to the right of the chart\n",
    "                marker = dict(color = 'rgba(255, 52, 0, 0.5)',\n",
    "                             line=dict(color='black',width=2)), # line color around bars\n",
    "                text = df2020[\"Overall rank\"]) # text on hover\n",
    "\n",
    "# create trace2(Freedom to make life choices)\n",
    "trace2 = go.Bar(\n",
    "                x = df2020[\"Country/Region\"],\n",
    "                y = df2020[\"Freedom to make life choices\"],\n",
    "                name = \"Freedom to make life choices\",\n",
    "                marker = dict(color = 'rgba(0, 99, 25, 0.7)',\n",
    "                              line=dict(color='black',width=2)),\n",
    "                text =df2020[\"Overall rank\"]) # text on hover\n",
    "\n",
    "# create trace3 (Sum of death cases)\n",
    "trace3 = go.Bar(\n",
    "                x = df2020[\"Country/Region\"],\n",
    "                y = df2020[\"sum_for_each_country\"]/1000000000,\n",
    "                name = \"death cases\",\n",
    "                marker = dict(color = 'rgba(106, 90, 205, 1)',\n",
    "                              line=dict(color='black',width=2)),\n",
    "                text =df2020[\"Overall rank\"]) # text on hover\n",
    "\n",
    "# We combine traces\n",
    "data = [trace1, trace2, trace3]\n",
    "\"\"\"\n",
    "A different way of creating a layout.\n",
    "barmode = bar mode of bars like grouped\n",
    "\"\"\"\n",
    "layout = go.Layout(barmode = \"group\")\n",
    "fig = go.Figure(data = data, layout = layout)\n",
    "iplot(fig)"
   ]
  }
 ],
 "metadata": {
  "kernelspec": {
   "display_name": "Python 3",
   "language": "python",
   "name": "python3"
  },
  "language_info": {
   "codemirror_mode": {
    "name": "ipython",
    "version": 3
   },
   "file_extension": ".py",
   "mimetype": "text/x-python",
   "name": "python",
   "nbconvert_exporter": "python",
   "pygments_lexer": "ipython3",
   "version": "3.11.5"
  },
  "orig_nbformat": 4
 },
 "nbformat": 4,
 "nbformat_minor": 2
}
